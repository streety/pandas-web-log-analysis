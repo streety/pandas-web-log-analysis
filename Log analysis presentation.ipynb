{
 "cells": [
  {
   "cell_type": "markdown",
   "metadata": {
    "slideshow": {
     "slide_type": "slide"
    }
   },
   "source": [
    "# Nginx log analysis with Pandas"
   ]
  },
  {
   "cell_type": "code",
   "execution_count": 19,
   "metadata": {
    "collapsed": false,
    "slideshow": {
     "slide_type": "slide"
    }
   },
   "outputs": [],
   "source": [
    "import matplotlib.pyplot as plt\n",
    "import numpy as np\n",
    "import pandas as pd\n",
    "import re\n",
    "\n",
    "%matplotlib inline "
   ]
  },
  {
   "cell_type": "markdown",
   "metadata": {
    "slideshow": {
     "slide_type": "slide"
    }
   },
   "source": [
    "# Data import - here be regex"
   ]
  },
  {
   "cell_type": "markdown",
   "metadata": {
    "slideshow": {
     "slide_type": "subslide"
    }
   },
   "source": [
    "The log format I use for nginx:\n",
    "\n",
    "    '$remote_addr - $remote_user [$time_local] '\n",
    "    '\"$request\" $status $body_bytes_sent '\n",
    "    '\"$http_referer\" \"$http_user_agent\" '\n",
    "    '$request_time $upstream_response_time $pipe';\n",
    "The following regex will match "
   ]
  },
  {
   "cell_type": "code",
   "execution_count": 20,
   "metadata": {
    "collapsed": true,
    "slideshow": {
     "slide_type": "subslide"
    }
   },
   "outputs": [],
   "source": [
    "pattern = re.compile(r\"\"\"(?P<remote_addr>.+?) \\s-\\s\n",
    "            (?P<remote_user>.+?) \\s\n",
    "            \\[(?P<time_local>.+?)\\] \\s \n",
    "            \"(?P<method>.+?) \\s (?P<uri>.+?) \\s (?P<protocol>.+?)\" \\s\n",
    "            (?P<status>.+?) \\s\n",
    "            (?P<body_bytes_sent>.+?) \\s\n",
    "            \"(?P<http_referer>.+?)\"? \\s # Optional final \" as I initially missed this when setting the format\n",
    "            \"(?P<http_user_agent>.*?)\" \\s\n",
    "            (?P<request_time>.+?) \\s\n",
    "            (?P<upstream_response_time>.+?) \\s\n",
    "            (?P<pipe>.+?)\"\"\", re.VERBOSE)"
   ]
  },
  {
   "cell_type": "code",
   "execution_count": 21,
   "metadata": {
    "collapsed": false,
    "slideshow": {
     "slide_type": "subslide"
    }
   },
   "outputs": [
    {
     "data": {
      "text/plain": [
       "{'body_bytes_sent': '7408',\n",
       " 'http_referer': '-',\n",
       " 'http_user_agent': 'Mozilla/4.0 (compatible; MSIE 6.0; Windows NT 5.1; SV1; Mozilla/4.0 (compatible; MSIE 6.0; Windows NT 5.1; SV1) )',\n",
       " 'method': 'GET',\n",
       " 'pipe': '.',\n",
       " 'protocol': 'HTTP/1.1',\n",
       " 'remote_addr': '195.211.155.181',\n",
       " 'remote_user': '-',\n",
       " 'request_time': '0.039',\n",
       " 'status': '200',\n",
       " 'time_local': '18/Jan/2015:22:43:05 +0000',\n",
       " 'upstream_response_time': '0.039',\n",
       " 'uri': '/blog/email-templates-using-zend-framework/'}"
      ]
     },
     "execution_count": 21,
     "metadata": {},
     "output_type": "execute_result"
    }
   ],
   "source": [
    "test = \"\"\"195.211.155.181 - - [18/Jan/2015:22:43:05 +0000] \"GET /blog/email-templates-using-zend-framework/ HTTP/1.1\" \"\"\" + \\\n",
    "        \"\"\"200 7408 \"-\" \"Mozilla/4.0 (compatible; MSIE 6.0; Windows NT 5.1; SV1; Mozilla/4.0 (compatible; MSIE 6.0; \"\"\" + \\\n",
    "        \"\"\"Windows NT 5.1; SV1) )\" 0.039 0.039 .\"\"\"\n",
    "\n",
    "m = re.match(pattern, test)\n",
    "m.groupdict()"
   ]
  },
  {
   "cell_type": "markdown",
   "metadata": {
    "slideshow": {
     "slide_type": "subslide"
    }
   },
   "source": [
    "With our working regex pattern we can parse every line in the log file and store the data in a list of dicts"
   ]
  },
  {
   "cell_type": "code",
   "execution_count": 22,
   "metadata": {
    "collapsed": true,
    "slideshow": {
     "slide_type": "fragment"
    }
   },
   "outputs": [],
   "source": [
    "log_file = '/home/jonathan/dev/access.log'\n",
    "\n",
    "with open(log_file) as f:\n",
    "    log_list = []\n",
    "    for i in f.readlines():\n",
    "        m = re.match(pattern, i)\n",
    "        log_list.append(m.groupdict())"
   ]
  },
  {
   "cell_type": "markdown",
   "metadata": {
    "slideshow": {
     "slide_type": "subslide"
    }
   },
   "source": [
    "Converting the data to a pandas DataFrame only requires passing the list to pd.DataFrame"
   ]
  },
  {
   "cell_type": "code",
   "execution_count": 23,
   "metadata": {
    "collapsed": false,
    "slideshow": {
     "slide_type": "subslide"
    }
   },
   "outputs": [
    {
     "name": "stdout",
     "output_type": "stream",
     "text": [
      "  body_bytes_sent http_referer  \\\n",
      "0            2355            -   \n",
      "\n",
      "                                     http_user_agent method pipe  protocol  \\\n",
      "0  Mozilla/5.0 (X11; Ubuntu; Linux x86_64; rv:31....    GET    .  HTTP/1.1   \n",
      "\n",
      "     remote_addr remote_user request_time status                  time_local  \\\n",
      "0  173.79.236.46           -        0.005    200  29/Jul/2014:02:32:01 +0100   \n",
      "\n",
      "  upstream_response_time uri  \n",
      "0                  0.005   /  \n"
     ]
    }
   ],
   "source": [
    "log = pd.DataFrame(log_list)\n",
    "\n",
    "print(log.head(1))"
   ]
  },
  {
   "cell_type": "markdown",
   "metadata": {
    "slideshow": {
     "slide_type": "slide"
    }
   },
   "source": [
    "# Inspecting the dataframe"
   ]
  },
  {
   "cell_type": "code",
   "execution_count": 24,
   "metadata": {
    "collapsed": false,
    "slideshow": {
     "slide_type": "subslide"
    }
   },
   "outputs": [
    {
     "name": "stdout",
     "output_type": "stream",
     "text": [
      "<class 'pandas.core.frame.DataFrame'>\n",
      "Int64Index: 335085 entries, 0 to 335084\n",
      "Data columns (total 13 columns):\n",
      "body_bytes_sent           335085 non-null object\n",
      "http_referer              335085 non-null object\n",
      "http_user_agent           335085 non-null object\n",
      "method                    335085 non-null object\n",
      "pipe                      335085 non-null object\n",
      "protocol                  335085 non-null object\n",
      "remote_addr               335085 non-null object\n",
      "remote_user               335085 non-null object\n",
      "request_time              335085 non-null object\n",
      "status                    335085 non-null object\n",
      "time_local                335085 non-null object\n",
      "upstream_response_time    335085 non-null object\n",
      "uri                       335085 non-null object\n",
      "dtypes: object(13)\n",
      "memory usage: 35.8+ MB\n"
     ]
    }
   ],
   "source": [
    "log.info()"
   ]
  },
  {
   "cell_type": "markdown",
   "metadata": {
    "slideshow": {
     "slide_type": "subslide"
    }
   },
   "source": [
    "Currently, all columns are object type. The data will be easier to work with if the types are converted where appropriate\n",
    "\n",
    "+ time_local -> datetime\n",
    "+ upstream_response_time -> float\n",
    "+ request_time -> float\n",
    "+ body_bytes_sent -> integer\n",
    "\n",
    "status is a numerical code so could be converted to an integer but as this is a categorical variable we probably don't need to convert it"
   ]
  },
  {
   "cell_type": "code",
   "execution_count": 25,
   "metadata": {
    "collapsed": false,
    "slideshow": {
     "slide_type": "subslide"
    }
   },
   "outputs": [
    {
     "name": "stdout",
     "output_type": "stream",
     "text": [
      "<class 'pandas.core.frame.DataFrame'>\n",
      "Int64Index: 335085 entries, 0 to 335084\n",
      "Data columns (total 13 columns):\n",
      "body_bytes_sent           335085 non-null int64\n",
      "http_referer              335085 non-null object\n",
      "http_user_agent           335085 non-null object\n",
      "method                    335085 non-null object\n",
      "pipe                      335085 non-null object\n",
      "protocol                  335085 non-null object\n",
      "remote_addr               335085 non-null object\n",
      "remote_user               335085 non-null object\n",
      "request_time              335085 non-null float64\n",
      "status                    335085 non-null object\n",
      "time_local                335085 non-null datetime64[ns]\n",
      "upstream_response_time    294004 non-null float64\n",
      "uri                       335085 non-null object\n",
      "dtypes: datetime64[ns](1), float64(2), int64(1), object(9)\n",
      "memory usage: 35.8+ MB\n"
     ]
    }
   ],
   "source": [
    "log['time_local'] = pd.to_datetime(log['time_local'].apply(lambda x : x.split(' ')[0]), format='%d/%b/%Y:%H:%M:%S')\n",
    "\n",
    "log.loc[log['upstream_response_time'] == '-', 'upstream_response_time'] = np.nan\n",
    "log[['upstream_response_time', 'request_time']] = log[['upstream_response_time', 'request_time']].astype(np.float64)\n",
    "log['body_bytes_sent'] = log['body_bytes_sent'].astype(np.int64)\n",
    "\n",
    "log.info()"
   ]
  },
  {
   "cell_type": "markdown",
   "metadata": {
    "slideshow": {
     "slide_type": "subslide"
    }
   },
   "source": [
    "The index is currently the default, an incrementing number (in this case 0 to 335084).\n",
    "\n",
    "Setting the index to the time of the request will simplify analysis later."
   ]
  },
  {
   "cell_type": "code",
   "execution_count": 26,
   "metadata": {
    "collapsed": false,
    "slideshow": {
     "slide_type": "fragment"
    }
   },
   "outputs": [
    {
     "name": "stdout",
     "output_type": "stream",
     "text": [
      "<class 'pandas.core.frame.DataFrame'>\n",
      "DatetimeIndex: 335085 entries, 2014-07-29 02:32:01 to 2015-01-18 22:03:33\n",
      "Data columns (total 12 columns):\n",
      "body_bytes_sent           335085 non-null int64\n",
      "http_referer              335085 non-null object\n",
      "http_user_agent           335085 non-null object\n",
      "method                    335085 non-null object\n",
      "pipe                      335085 non-null object\n",
      "protocol                  335085 non-null object\n",
      "remote_addr               335085 non-null object\n",
      "remote_user               335085 non-null object\n",
      "request_time              335085 non-null float64\n",
      "status                    335085 non-null object\n",
      "upstream_response_time    294004 non-null float64\n",
      "uri                       335085 non-null object\n",
      "dtypes: float64(2), int64(1), object(9)\n",
      "memory usage: 33.2+ MB\n"
     ]
    }
   ],
   "source": [
    "log.index = log.pop('time_local')\n",
    "log.info()"
   ]
  },
  {
   "cell_type": "markdown",
   "metadata": {
    "slideshow": {
     "slide_type": "subslide"
    }
   },
   "source": [
    "Basic summary information is available with the describe method"
   ]
  },
  {
   "cell_type": "code",
   "execution_count": 27,
   "metadata": {
    "collapsed": false,
    "slideshow": {
     "slide_type": "fragment"
    }
   },
   "outputs": [
    {
     "data": {
      "text/html": [
       "<div style=\"max-height:1000px;max-width:1500px;overflow:auto;\">\n",
       "<table border=\"1\" class=\"dataframe\">\n",
       "  <thead>\n",
       "    <tr style=\"text-align: right;\">\n",
       "      <th></th>\n",
       "      <th>body_bytes_sent</th>\n",
       "      <th>request_time</th>\n",
       "      <th>upstream_response_time</th>\n",
       "    </tr>\n",
       "  </thead>\n",
       "  <tbody>\n",
       "    <tr>\n",
       "      <th>count</th>\n",
       "      <td>  335085.000000</td>\n",
       "      <td> 335085.000000</td>\n",
       "      <td> 294004.000000</td>\n",
       "    </tr>\n",
       "    <tr>\n",
       "      <th>mean</th>\n",
       "      <td>   50860.877577</td>\n",
       "      <td>      0.505884</td>\n",
       "      <td>      0.071010</td>\n",
       "    </tr>\n",
       "    <tr>\n",
       "      <th>std</th>\n",
       "      <td>   95728.088827</td>\n",
       "      <td>      2.068734</td>\n",
       "      <td>      0.077905</td>\n",
       "    </tr>\n",
       "    <tr>\n",
       "      <th>min</th>\n",
       "      <td>       0.000000</td>\n",
       "      <td>      0.000000</td>\n",
       "      <td>      0.000000</td>\n",
       "    </tr>\n",
       "    <tr>\n",
       "      <th>25%</th>\n",
       "      <td>    5786.000000</td>\n",
       "      <td>      0.038000</td>\n",
       "      <td>      0.037000</td>\n",
       "    </tr>\n",
       "    <tr>\n",
       "      <th>50%</th>\n",
       "      <td>   13548.000000</td>\n",
       "      <td>      0.152000</td>\n",
       "      <td>      0.043000</td>\n",
       "    </tr>\n",
       "    <tr>\n",
       "      <th>75%</th>\n",
       "      <td>   24858.000000</td>\n",
       "      <td>      0.460000</td>\n",
       "      <td>      0.086000</td>\n",
       "    </tr>\n",
       "    <tr>\n",
       "      <th>max</th>\n",
       "      <td> 3943976.000000</td>\n",
       "      <td>    209.385000</td>\n",
       "      <td>      3.760000</td>\n",
       "    </tr>\n",
       "  </tbody>\n",
       "</table>\n",
       "</div>"
      ],
      "text/plain": [
       "       body_bytes_sent   request_time  upstream_response_time\n",
       "count    335085.000000  335085.000000           294004.000000\n",
       "mean      50860.877577       0.505884                0.071010\n",
       "std       95728.088827       2.068734                0.077905\n",
       "min           0.000000       0.000000                0.000000\n",
       "25%        5786.000000       0.038000                0.037000\n",
       "50%       13548.000000       0.152000                0.043000\n",
       "75%       24858.000000       0.460000                0.086000\n",
       "max     3943976.000000     209.385000                3.760000"
      ]
     },
     "execution_count": 27,
     "metadata": {},
     "output_type": "execute_result"
    }
   ],
   "source": [
    "log.describe()"
   ]
  },
  {
   "cell_type": "markdown",
   "metadata": {
    "slideshow": {
     "slide_type": "fragment"
    }
   },
   "source": [
    "Some of the requests take a long time. Let's take a closer look"
   ]
  },
  {
   "cell_type": "markdown",
   "metadata": {
    "slideshow": {
     "slide_type": "slide"
    }
   },
   "source": [
    "## Response time analysis"
   ]
  },
  {
   "cell_type": "code",
   "execution_count": 28,
   "metadata": {
    "collapsed": false,
    "slideshow": {
     "slide_type": "subslide"
    }
   },
   "outputs": [
    {
     "data": {
      "text/plain": [
       "(24, 12)"
      ]
     },
     "execution_count": 28,
     "metadata": {},
     "output_type": "execute_result"
    }
   ],
   "source": [
    "mask = log['upstream_response_time'] > 1.0\n",
    "log[mask].shape"
   ]
  },
  {
   "cell_type": "code",
   "execution_count": 29,
   "metadata": {
    "collapsed": false,
    "slideshow": {
     "slide_type": "subslide"
    }
   },
   "outputs": [
    {
     "data": {
      "text/html": [
       "<div style=\"max-height:1000px;max-width:1500px;overflow:auto;\">\n",
       "<table border=\"1\" class=\"dataframe\">\n",
       "  <thead>\n",
       "    <tr style=\"text-align: right;\">\n",
       "      <th></th>\n",
       "      <th>request_time</th>\n",
       "      <th>status</th>\n",
       "      <th>upstream_response_time</th>\n",
       "      <th>uri</th>\n",
       "    </tr>\n",
       "    <tr>\n",
       "      <th>time_local</th>\n",
       "      <th></th>\n",
       "      <th></th>\n",
       "      <th></th>\n",
       "      <th></th>\n",
       "    </tr>\n",
       "  </thead>\n",
       "  <tbody>\n",
       "    <tr>\n",
       "      <th>2014-08-22 10:37:23</th>\n",
       "      <td> 3.760</td>\n",
       "      <td> 200</td>\n",
       "      <td> 3.760</td>\n",
       "      <td> /admin/blog/comment/?spam__isnull=True</td>\n",
       "    </tr>\n",
       "    <tr>\n",
       "      <th>2014-08-22 22:26:33</th>\n",
       "      <td> 2.703</td>\n",
       "      <td> 200</td>\n",
       "      <td> 2.703</td>\n",
       "      <td>                  /admin/blog/comment/?</td>\n",
       "    </tr>\n",
       "    <tr>\n",
       "      <th>2014-08-26 01:00:09</th>\n",
       "      <td> 2.265</td>\n",
       "      <td> 200</td>\n",
       "      <td> 2.004</td>\n",
       "      <td>                            /blog/atom/</td>\n",
       "    </tr>\n",
       "    <tr>\n",
       "      <th>2014-08-05 13:40:57</th>\n",
       "      <td> 2.701</td>\n",
       "      <td> 200</td>\n",
       "      <td> 1.789</td>\n",
       "      <td>         /blog/ai-cookbook-competition/</td>\n",
       "    </tr>\n",
       "    <tr>\n",
       "      <th>2014-09-25 15:30:48</th>\n",
       "      <td> 1.861</td>\n",
       "      <td> 200</td>\n",
       "      <td> 1.450</td>\n",
       "      <td>  /blog/bcne3-search-phpbb-with-sphinx/</td>\n",
       "    </tr>\n",
       "    <tr>\n",
       "      <th>2014-08-22 00:43:35</th>\n",
       "      <td> 1.433</td>\n",
       "      <td> 200</td>\n",
       "      <td> 1.433</td>\n",
       "      <td>                   /admin/blog/comment/</td>\n",
       "    </tr>\n",
       "    <tr>\n",
       "      <th>2014-08-22 15:21:26</th>\n",
       "      <td> 1.896</td>\n",
       "      <td> 200</td>\n",
       "      <td> 1.419</td>\n",
       "      <td>                            /blog/atom/</td>\n",
       "    </tr>\n",
       "    <tr>\n",
       "      <th>2014-08-26 19:20:03</th>\n",
       "      <td> 2.207</td>\n",
       "      <td> 200</td>\n",
       "      <td> 1.415</td>\n",
       "      <td>                 /blog/tag/python/atom/</td>\n",
       "    </tr>\n",
       "    <tr>\n",
       "      <th>2014-09-02 00:13:06</th>\n",
       "      <td> 1.326</td>\n",
       "      <td> 200</td>\n",
       "      <td> 1.326</td>\n",
       "      <td>         /blog/ai-cookbook-competition/</td>\n",
       "    </tr>\n",
       "    <tr>\n",
       "      <th>2014-08-08 14:57:27</th>\n",
       "      <td> 1.714</td>\n",
       "      <td> 200</td>\n",
       "      <td> 1.238</td>\n",
       "      <td>                 /blog/tag/python/atom/</td>\n",
       "    </tr>\n",
       "    <tr>\n",
       "      <th>2014-08-22 13:33:26</th>\n",
       "      <td> 1.472</td>\n",
       "      <td> 200</td>\n",
       "      <td> 1.208</td>\n",
       "      <td>                            /blog/atom/</td>\n",
       "    </tr>\n",
       "    <tr>\n",
       "      <th>2014-08-13 09:10:04</th>\n",
       "      <td> 1.467</td>\n",
       "      <td> 200</td>\n",
       "      <td> 1.152</td>\n",
       "      <td>                          /blog/atom/1/</td>\n",
       "    </tr>\n",
       "    <tr>\n",
       "      <th>2014-08-22 13:33:15</th>\n",
       "      <td> 1.116</td>\n",
       "      <td> 200</td>\n",
       "      <td> 1.116</td>\n",
       "      <td>         /blog/ai-cookbook-competition/</td>\n",
       "    </tr>\n",
       "    <tr>\n",
       "      <th>2014-08-05 13:57:32</th>\n",
       "      <td> 2.023</td>\n",
       "      <td> 200</td>\n",
       "      <td> 1.106</td>\n",
       "      <td>                            /blog/atom/</td>\n",
       "    </tr>\n",
       "    <tr>\n",
       "      <th>2014-08-11 10:00:02</th>\n",
       "      <td> 1.125</td>\n",
       "      <td> 200</td>\n",
       "      <td> 1.092</td>\n",
       "      <td>                            /blog/atom/</td>\n",
       "    </tr>\n",
       "    <tr>\n",
       "      <th>2014-08-13 08:00:03</th>\n",
       "      <td> 1.418</td>\n",
       "      <td> 200</td>\n",
       "      <td> 1.083</td>\n",
       "      <td>                          /blog/atom/1/</td>\n",
       "    </tr>\n",
       "    <tr>\n",
       "      <th>2014-08-04 04:20:02</th>\n",
       "      <td> 1.304</td>\n",
       "      <td> 200</td>\n",
       "      <td> 1.061</td>\n",
       "      <td>                            /blog/atom/</td>\n",
       "    </tr>\n",
       "    <tr>\n",
       "      <th>2014-08-22 14:40:06</th>\n",
       "      <td> 1.314</td>\n",
       "      <td> 200</td>\n",
       "      <td> 1.050</td>\n",
       "      <td>                            /blog/atom/</td>\n",
       "    </tr>\n",
       "    <tr>\n",
       "      <th>2014-08-29 09:40:02</th>\n",
       "      <td> 1.083</td>\n",
       "      <td> 200</td>\n",
       "      <td> 1.039</td>\n",
       "      <td>                            /blog/atom/</td>\n",
       "    </tr>\n",
       "    <tr>\n",
       "      <th>2014-08-28 12:20:03</th>\n",
       "      <td> 1.276</td>\n",
       "      <td> 200</td>\n",
       "      <td> 1.021</td>\n",
       "      <td>                            /blog/atom/</td>\n",
       "    </tr>\n",
       "    <tr>\n",
       "      <th>2014-08-04 04:22:18</th>\n",
       "      <td> 1.282</td>\n",
       "      <td> 200</td>\n",
       "      <td> 1.015</td>\n",
       "      <td>                            /blog/atom/</td>\n",
       "    </tr>\n",
       "    <tr>\n",
       "      <th>2014-08-21 17:47:19</th>\n",
       "      <td> 1.091</td>\n",
       "      <td> 200</td>\n",
       "      <td> 1.009</td>\n",
       "      <td>  /blog/bcne3-search-phpbb-with-sphinx/</td>\n",
       "    </tr>\n",
       "    <tr>\n",
       "      <th>2014-08-05 13:48:25</th>\n",
       "      <td> 1.380</td>\n",
       "      <td> 200</td>\n",
       "      <td> 1.007</td>\n",
       "      <td>                          /blog/atom/1/</td>\n",
       "    </tr>\n",
       "    <tr>\n",
       "      <th>2015-01-15 07:39:28</th>\n",
       "      <td> 1.263</td>\n",
       "      <td> 200</td>\n",
       "      <td> 1.007</td>\n",
       "      <td>                            /blog/atom/</td>\n",
       "    </tr>\n",
       "  </tbody>\n",
       "</table>\n",
       "</div>"
      ],
      "text/plain": [
       "                     request_time status  upstream_response_time  \\\n",
       "time_local                                                         \n",
       "2014-08-22 10:37:23         3.760    200                   3.760   \n",
       "2014-08-22 22:26:33         2.703    200                   2.703   \n",
       "2014-08-26 01:00:09         2.265    200                   2.004   \n",
       "2014-08-05 13:40:57         2.701    200                   1.789   \n",
       "2014-09-25 15:30:48         1.861    200                   1.450   \n",
       "2014-08-22 00:43:35         1.433    200                   1.433   \n",
       "2014-08-22 15:21:26         1.896    200                   1.419   \n",
       "2014-08-26 19:20:03         2.207    200                   1.415   \n",
       "2014-09-02 00:13:06         1.326    200                   1.326   \n",
       "2014-08-08 14:57:27         1.714    200                   1.238   \n",
       "2014-08-22 13:33:26         1.472    200                   1.208   \n",
       "2014-08-13 09:10:04         1.467    200                   1.152   \n",
       "2014-08-22 13:33:15         1.116    200                   1.116   \n",
       "2014-08-05 13:57:32         2.023    200                   1.106   \n",
       "2014-08-11 10:00:02         1.125    200                   1.092   \n",
       "2014-08-13 08:00:03         1.418    200                   1.083   \n",
       "2014-08-04 04:20:02         1.304    200                   1.061   \n",
       "2014-08-22 14:40:06         1.314    200                   1.050   \n",
       "2014-08-29 09:40:02         1.083    200                   1.039   \n",
       "2014-08-28 12:20:03         1.276    200                   1.021   \n",
       "2014-08-04 04:22:18         1.282    200                   1.015   \n",
       "2014-08-21 17:47:19         1.091    200                   1.009   \n",
       "2014-08-05 13:48:25         1.380    200                   1.007   \n",
       "2015-01-15 07:39:28         1.263    200                   1.007   \n",
       "\n",
       "                                                        uri  \n",
       "time_local                                                   \n",
       "2014-08-22 10:37:23  /admin/blog/comment/?spam__isnull=True  \n",
       "2014-08-22 22:26:33                   /admin/blog/comment/?  \n",
       "2014-08-26 01:00:09                             /blog/atom/  \n",
       "2014-08-05 13:40:57          /blog/ai-cookbook-competition/  \n",
       "2014-09-25 15:30:48   /blog/bcne3-search-phpbb-with-sphinx/  \n",
       "2014-08-22 00:43:35                    /admin/blog/comment/  \n",
       "2014-08-22 15:21:26                             /blog/atom/  \n",
       "2014-08-26 19:20:03                  /blog/tag/python/atom/  \n",
       "2014-09-02 00:13:06          /blog/ai-cookbook-competition/  \n",
       "2014-08-08 14:57:27                  /blog/tag/python/atom/  \n",
       "2014-08-22 13:33:26                             /blog/atom/  \n",
       "2014-08-13 09:10:04                           /blog/atom/1/  \n",
       "2014-08-22 13:33:15          /blog/ai-cookbook-competition/  \n",
       "2014-08-05 13:57:32                             /blog/atom/  \n",
       "2014-08-11 10:00:02                             /blog/atom/  \n",
       "2014-08-13 08:00:03                           /blog/atom/1/  \n",
       "2014-08-04 04:20:02                             /blog/atom/  \n",
       "2014-08-22 14:40:06                             /blog/atom/  \n",
       "2014-08-29 09:40:02                             /blog/atom/  \n",
       "2014-08-28 12:20:03                             /blog/atom/  \n",
       "2014-08-04 04:22:18                             /blog/atom/  \n",
       "2014-08-21 17:47:19   /blog/bcne3-search-phpbb-with-sphinx/  \n",
       "2014-08-05 13:48:25                           /blog/atom/1/  \n",
       "2015-01-15 07:39:28                             /blog/atom/  "
      ]
     },
     "execution_count": 29,
     "metadata": {},
     "output_type": "execute_result"
    }
   ],
   "source": [
    "selected_columns = ['request_time', 'status', 'upstream_response_time', 'uri']\n",
    "log.loc[mask, selected_columns].sort('upstream_response_time', ascending=False)"
   ]
  },
  {
   "cell_type": "markdown",
   "metadata": {
    "slideshow": {
     "slide_type": "subslide"
    }
   },
   "source": [
    "The slowest requests are on the back end but a couple of blog posts and the atom feed also appear to be slow. Are they always slow or were these requests anomalous?"
   ]
  },
  {
   "cell_type": "code",
   "execution_count": 30,
   "metadata": {
    "collapsed": false,
    "slideshow": {
     "slide_type": "fragment"
    }
   },
   "outputs": [
    {
     "data": {
      "text/html": [
       "<div style=\"max-height:1000px;max-width:1500px;overflow:auto;\">\n",
       "<table border=\"1\" class=\"dataframe\">\n",
       "  <thead>\n",
       "    <tr style=\"text-align: right;\">\n",
       "      <th></th>\n",
       "      <th>body_bytes_sent</th>\n",
       "      <th>request_time</th>\n",
       "      <th>upstream_response_time</th>\n",
       "    </tr>\n",
       "  </thead>\n",
       "  <tbody>\n",
       "    <tr>\n",
       "      <th>count</th>\n",
       "      <td>  20331.000000</td>\n",
       "      <td> 20331.000000</td>\n",
       "      <td> 20329.000000</td>\n",
       "    </tr>\n",
       "    <tr>\n",
       "      <th>mean</th>\n",
       "      <td> 281056.742610</td>\n",
       "      <td>     0.843777</td>\n",
       "      <td>     0.249729</td>\n",
       "    </tr>\n",
       "    <tr>\n",
       "      <th>std</th>\n",
       "      <td>  21001.686369</td>\n",
       "      <td>     1.342209</td>\n",
       "      <td>     0.053137</td>\n",
       "    </tr>\n",
       "    <tr>\n",
       "      <th>min</th>\n",
       "      <td>      0.000000</td>\n",
       "      <td>     0.000000</td>\n",
       "      <td>     0.216000</td>\n",
       "    </tr>\n",
       "    <tr>\n",
       "      <th>25%</th>\n",
       "      <td> 282935.000000</td>\n",
       "      <td>     0.481000</td>\n",
       "      <td>     0.227000</td>\n",
       "    </tr>\n",
       "    <tr>\n",
       "      <th>50%</th>\n",
       "      <td> 282935.000000</td>\n",
       "      <td>     0.550000</td>\n",
       "      <td>     0.234000</td>\n",
       "    </tr>\n",
       "    <tr>\n",
       "      <th>75%</th>\n",
       "      <td> 282935.000000</td>\n",
       "      <td>     0.692000</td>\n",
       "      <td>     0.253000</td>\n",
       "    </tr>\n",
       "    <tr>\n",
       "      <th>max</th>\n",
       "      <td> 283197.000000</td>\n",
       "      <td>    66.848000</td>\n",
       "      <td>     2.004000</td>\n",
       "    </tr>\n",
       "  </tbody>\n",
       "</table>\n",
       "</div>"
      ],
      "text/plain": [
       "       body_bytes_sent  request_time  upstream_response_time\n",
       "count     20331.000000  20331.000000            20329.000000\n",
       "mean     281056.742610      0.843777                0.249729\n",
       "std       21001.686369      1.342209                0.053137\n",
       "min           0.000000      0.000000                0.216000\n",
       "25%      282935.000000      0.481000                0.227000\n",
       "50%      282935.000000      0.550000                0.234000\n",
       "75%      282935.000000      0.692000                0.253000\n",
       "max      283197.000000     66.848000                2.004000"
      ]
     },
     "execution_count": 30,
     "metadata": {},
     "output_type": "execute_result"
    }
   ],
   "source": [
    "mask = log['uri'] == '/blog/atom/'\n",
    "log[mask].describe()"
   ]
  },
  {
   "cell_type": "code",
   "execution_count": 31,
   "metadata": {
    "collapsed": false,
    "slideshow": {
     "slide_type": "subslide"
    }
   },
   "outputs": [
    {
     "data": {
      "text/plain": [
       "0.31900000000000001"
      ]
     },
     "execution_count": 31,
     "metadata": {},
     "output_type": "execute_result"
    }
   ],
   "source": [
    "np.percentile(log.loc[log['uri'] == '/blog/atom/', 'upstream_response_time'], 95)"
   ]
  },
  {
   "cell_type": "markdown",
   "metadata": {
    "slideshow": {
     "slide_type": "slide"
    }
   },
   "source": [
    "## Traffic analysis"
   ]
  },
  {
   "cell_type": "markdown",
   "metadata": {
    "slideshow": {
     "slide_type": "subslide"
    }
   },
   "source": [
    "### Daily requests"
   ]
  },
  {
   "cell_type": "code",
   "execution_count": 32,
   "metadata": {
    "collapsed": true,
    "slideshow": {
     "slide_type": "fragment"
    }
   },
   "outputs": [],
   "source": [
    "log_freq = log['body_bytes_sent'].resample('D', how='count')"
   ]
  },
  {
   "cell_type": "code",
   "execution_count": 33,
   "metadata": {
    "collapsed": false,
    "slideshow": {
     "slide_type": "fragment"
    }
   },
   "outputs": [
    {
     "data": {
      "text/plain": [
       "<matplotlib.axes._subplots.AxesSubplot at 0x7fa1b065f0b8>"
      ]
     },
     "execution_count": 33,
     "metadata": {},
     "output_type": "execute_result"
    },
    {
     "data": {
      "image/png": "[encoded data removed]",
      "text/plain": [
       "<matplotlib.figure.Figure at 0x7fa1c31086d8>"
      ]
     },
     "metadata": {},
     "output_type": "display_data"
    }
   ],
   "source": [
    "log_freq.plot()"
   ]
  },
  {
   "cell_type": "markdown",
   "metadata": {
    "slideshow": {
     "slide_type": "slide"
    }
   },
   "source": [
    "### Top URIs"
   ]
  },
  {
   "cell_type": "code",
   "execution_count": 34,
   "metadata": {
    "collapsed": false,
    "slideshow": {
     "slide_type": "fragment"
    }
   },
   "outputs": [
    {
     "data": {
      "text/plain": [
       "uri\n",
       "/blog/disk-space-database-table-mysql-postgresql/      5902\n",
       "/static/js/bootstrap.min.js                            6137\n",
       "/static/css/bootstrap.css                              6424\n",
       "/blog/atom/1                                          10395\n",
       "/blog/atom/1/                                         11856\n",
       "/blog/ai-cookbook-competition/                        17941\n",
       "/blog/tag/python/atom/                                19729\n",
       "/blog/atom/                                           20331\n",
       "/                                                     20336\n",
       "/blog/bcne3-search-phpbb-with-sphinx/                110334\n",
       "dtype: int64"
      ]
     },
     "execution_count": 34,
     "metadata": {},
     "output_type": "execute_result"
    }
   ],
   "source": [
    "top_uri = log.groupby('uri').size()\n",
    "top_uri.sort()\n",
    "top_uri.tail(10)"
   ]
  },
  {
   "cell_type": "code",
   "execution_count": 35,
   "metadata": {
    "collapsed": false,
    "slideshow": {
     "slide_type": "subslide"
    }
   },
   "outputs": [
    {
     "data": {
      "text/html": [
       "<div style=\"max-height:1000px;max-width:1500px;overflow:auto;\">\n",
       "<table border=\"1\" class=\"dataframe\">\n",
       "  <thead>\n",
       "    <tr style=\"text-align: right;\">\n",
       "      <th></th>\n",
       "      <th>remote_addr</th>\n",
       "      <th>method</th>\n",
       "      <th>http_user_agent</th>\n",
       "      <th>http_referer</th>\n",
       "    </tr>\n",
       "  </thead>\n",
       "  <tbody>\n",
       "    <tr>\n",
       "      <th>count</th>\n",
       "      <td>        20331</td>\n",
       "      <td> 20331</td>\n",
       "      <td>                                             20331</td>\n",
       "      <td> 20331</td>\n",
       "    </tr>\n",
       "    <tr>\n",
       "      <th>unique</th>\n",
       "      <td>          401</td>\n",
       "      <td>     2</td>\n",
       "      <td>                                               114</td>\n",
       "      <td>    11</td>\n",
       "    </tr>\n",
       "    <tr>\n",
       "      <th>top</th>\n",
       "      <td> 72.196.9.247</td>\n",
       "      <td>   GET</td>\n",
       "      <td> Mozilla/5.0 (compatible; Googlebot/2.1; +http:...</td>\n",
       "      <td>     -</td>\n",
       "    </tr>\n",
       "    <tr>\n",
       "      <th>freq</th>\n",
       "      <td>         1596</td>\n",
       "      <td> 20243</td>\n",
       "      <td>                                              8339</td>\n",
       "      <td> 20301</td>\n",
       "    </tr>\n",
       "  </tbody>\n",
       "</table>\n",
       "</div>"
      ],
      "text/plain": [
       "         remote_addr method  \\\n",
       "count          20331  20331   \n",
       "unique           401      2   \n",
       "top     72.196.9.247    GET   \n",
       "freq            1596  20243   \n",
       "\n",
       "                                          http_user_agent http_referer  \n",
       "count                                               20331        20331  \n",
       "unique                                                114           11  \n",
       "top     Mozilla/5.0 (compatible; Googlebot/2.1; +http:...            -  \n",
       "freq                                                 8339        20301  "
      ]
     },
     "execution_count": 35,
     "metadata": {},
     "output_type": "execute_result"
    }
   ],
   "source": [
    "uri_mask = log['uri'] == '/blog/bcne3-search-phpbb-with-sphinx/'\n",
    "selected_columns = ['remote_addr', 'method', 'http_user_agent', 'http_referer']\n",
    "log.loc[mask, selected_columns].describe()"
   ]
  },
  {
   "cell_type": "code",
   "execution_count": 36,
   "metadata": {
    "collapsed": false,
    "slideshow": {
     "slide_type": "subslide"
    }
   },
   "outputs": [
    {
     "data": {
      "text/html": [
       "<div style=\"max-height:1000px;max-width:1500px;overflow:auto;\">\n",
       "<table border=\"1\" class=\"dataframe\">\n",
       "  <thead>\n",
       "    <tr style=\"text-align: right;\">\n",
       "      <th></th>\n",
       "      <th>remote_addr</th>\n",
       "      <th>method</th>\n",
       "      <th>http_user_agent</th>\n",
       "      <th>http_referer</th>\n",
       "    </tr>\n",
       "  </thead>\n",
       "  <tbody>\n",
       "    <tr>\n",
       "      <th>count</th>\n",
       "      <td>       45414</td>\n",
       "      <td> 45414</td>\n",
       "      <td>                                             45414</td>\n",
       "      <td>                                             45414</td>\n",
       "    </tr>\n",
       "    <tr>\n",
       "      <th>unique</th>\n",
       "      <td>        3251</td>\n",
       "      <td>     1</td>\n",
       "      <td>                                               271</td>\n",
       "      <td>                                                 2</td>\n",
       "    </tr>\n",
       "    <tr>\n",
       "      <th>top</th>\n",
       "      <td> 66.117.8.34</td>\n",
       "      <td>  POST</td>\n",
       "      <td> Mozilla/4.0 (compatible; MSIE 6.0; Windows NT ...</td>\n",
       "      <td> http://jonathanstreet.com/blog/bcne3-search-ph...</td>\n",
       "    </tr>\n",
       "    <tr>\n",
       "      <th>freq</th>\n",
       "      <td>        3351</td>\n",
       "      <td> 45414</td>\n",
       "      <td>                                              5413</td>\n",
       "      <td>                                             45411</td>\n",
       "    </tr>\n",
       "  </tbody>\n",
       "</table>\n",
       "</div>"
      ],
      "text/plain": [
       "        remote_addr method                                    http_user_agent  \\\n",
       "count         45414  45414                                              45414   \n",
       "unique         3251      1                                                271   \n",
       "top     66.117.8.34   POST  Mozilla/4.0 (compatible; MSIE 6.0; Windows NT ...   \n",
       "freq           3351  45414                                               5413   \n",
       "\n",
       "                                             http_referer  \n",
       "count                                               45414  \n",
       "unique                                                  2  \n",
       "top     http://jonathanstreet.com/blog/bcne3-search-ph...  \n",
       "freq                                                45411  "
      ]
     },
     "execution_count": 36,
     "metadata": {},
     "output_type": "execute_result"
    }
   ],
   "source": [
    "uri_mask = log['uri'] == '/blog/bcne3-search-phpbb-with-sphinx/'\n",
    "method_mask = log['method'] == 'POST'\n",
    "mask = uri_mask & method_mask\n",
    "\n",
    "selected_columns = ['remote_addr', 'method', 'http_user_agent', 'http_referer']\n",
    "\n",
    "log.loc[mask, selected_columns].describe()"
   ]
  },
  {
   "cell_type": "markdown",
   "metadata": {
    "slideshow": {
     "slide_type": "slide"
    }
   },
   "source": [
    "## Resources & Further Inspiration\n",
    "\n",
    "+ [Pandas](http://pandas.pydata.org/)\n",
    "+ [Matplotlib](http://matplotlib.org/)\n",
    "+ [Numpy](http://www.numpy.org/)\n",
    "\n",
    "\n",
    "+ [Another notebook exploring similar themes](http://nbviewer.ipython.org/github/koldunovn/nk_public_notebooks/blob/master/Apache_log.ipynb)\n",
    "\n",
    "\n",
    "+ [Importing Google Analytics data into pandas](http://pandas.pydata.org/pandas-docs/stable/remote_data.html#remote-data-ga)"
   ]
  }
 ],
 "metadata": {
  "celltoolbar": "Slideshow",
  "kernelspec": {
   "display_name": "Python 3",
   "language": "python",
   "name": "python3"
  },
  "language_info": {
   "codemirror_mode": {
    "name": "ipython",
    "version": 3
   },
   "file_extension": ".py",
   "mimetype": "text/x-python",
   "name": "python",
   "nbconvert_exporter": "python",
   "pygments_lexer": "ipython3",
   "version": "3.4.0"
  }
 },
 "nbformat": 4,
 "nbformat_minor": 0
}
